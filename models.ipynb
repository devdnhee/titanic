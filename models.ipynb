{
 "cells": [
  {
   "cell_type": "code",
   "execution_count": 8,
   "metadata": {},
   "outputs": [],
   "source": [
    "import pandas as pd\n",
    "import numpy as np\n",
    "from preprocessing import transform_csv\n",
    "from sklearn.model_selection import train_test_split\n",
    "from sklearn import svm\n",
    "import pickle"
   ]
  },
  {
   "cell_type": "code",
   "execution_count": 9,
   "metadata": {},
   "outputs": [],
   "source": [
    "def get_result(clf, X, output_filepath):\n",
    "    passengers = X['PassengerId']\n",
    "    X = X.drop(['PassengerId'], axis=1)\n",
    "    survived = clf.predict(X)\n",
    "    result = pd.DataFrame()\n",
    "    result['PassengerId'] = passengers\n",
    "    result['Survived'] = survived\n",
    "    result.to_csv(output_filepath, index=False)"
   ]
  },
  {
   "cell_type": "code",
   "execution_count": 10,
   "metadata": {},
   "outputs": [],
   "source": [
    "transform_csv('train.csv', 'train_processed.csv')\n",
    "train_df = pd.read_csv('train_processed.csv')\n",
    "y = train_df['Survived']\n",
    "X = train_df.drop(['Survived'], axis=1)"
   ]
  },
  {
   "cell_type": "code",
   "execution_count": 11,
   "metadata": {},
   "outputs": [],
   "source": [
    "X_train, X_test, y_train, y_test = train_test_split(X, y, test_size=0.20, random_state=42)\n",
    "passenger_train, passenger_test = X_train['PassengerId'], X_test['PassengerId']\n",
    "X_train, X_test = X_train.drop(['PassengerId'], axis=1), X_test.drop(['PassengerId'], axis=1)"
   ]
  },
  {
   "cell_type": "markdown",
   "metadata": {},
   "source": [
    "1. Vanilla SVM classifier with sklearn"
   ]
  },
  {
   "cell_type": "code",
   "execution_count": 12,
   "metadata": {},
   "outputs": [
    {
     "name": "stdout",
     "output_type": "stream",
     "text": [
      "0.815642458101\n"
     ]
    }
   ],
   "source": [
    "clf_svm = svm.SVC(gamma=0.001, C=100)\n",
    "clf_svm.fit(X_train, y_train)\n",
    "y_hat = clf_svm.predict(X_test)\n",
    "accuracy = 1-np.average(np.abs(y_hat-y_test))\n",
    "print(accuracy)"
   ]
  },
  {
   "cell_type": "code",
   "execution_count": 13,
   "metadata": {},
   "outputs": [],
   "source": [
    "transform_csv('test.csv', 'test_processed.csv')\n",
    "test_df = pd.read_csv('test_processed.csv')\n",
    "get_result(clf_svm, X, 'svm_result.csv')"
   ]
  },
  {
   "cell_type": "code",
   "execution_count": 6,
   "metadata": {},
   "outputs": [],
   "source": []
  },
  {
   "cell_type": "code",
   "execution_count": null,
   "metadata": {},
   "outputs": [],
   "source": []
  }
 ],
 "metadata": {
  "kernelspec": {
   "display_name": "Python 3",
   "language": "python",
   "name": "python3"
  },
  "language_info": {
   "codemirror_mode": {
    "name": "ipython",
    "version": 3
   },
   "file_extension": ".py",
   "mimetype": "text/x-python",
   "name": "python",
   "nbconvert_exporter": "python",
   "pygments_lexer": "ipython3",
   "version": "3.6.3"
  }
 },
 "nbformat": 4,
 "nbformat_minor": 2
}
