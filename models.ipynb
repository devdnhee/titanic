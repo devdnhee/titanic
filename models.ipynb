{
 "cells": [
  {
   "cell_type": "code",
   "execution_count": 102,
   "metadata": {},
   "outputs": [],
   "source": [
    "import pandas as pd\n",
    "import numpy as np\n",
    "from preprocessing import transform_csv\n",
    "from sklearn.model_selection import train_test_split\n",
    "from sklearn import svm, preprocessing\n",
    "import pickle"
   ]
  },
  {
   "cell_type": "code",
   "execution_count": 153,
   "metadata": {},
   "outputs": [],
   "source": [
    "scale_feat = ['Age', 'Fare']\n",
    "\n",
    "def fit_wrap(X, y, clf):\n",
    "    X_toscale = X[scale_feat]\n",
    "    scaler = preprocessing.StandardScaler().fit(X_toscale)\n",
    "#     X.loc[:, scale_feat] = scaler.transform(X_toscale)\n",
    "    clf.fit(X, y)\n",
    "    return {'classifier': clf, 'scaler': scaler}\n",
    "\n",
    "def predict_wrap(X, model):\n",
    "#     X.loc[:, scale_feat] = model['scaler'].transform(X[scale_feat])\n",
    "    y_hat = model['classifier'].predict(X)\n",
    "    return y_hat\n",
    "\n",
    "def train_accuracy(X_train, y_train, X_test, y_test, clf):\n",
    "    model = fit_wrap(X_train, y_train, clf)\n",
    "    y_hat = predict_wrap(X_test, model)\n",
    "    return 1 - np.average(np.abs(y_hat-y_test))\n",
    "\n",
    "def submission(X, y, passengers, X_sub, clf, output='submission.csv'):\n",
    "    model = fit_wrap(X, y, clf)\n",
    "    y_sub = predict_wrap(X_sub, model)\n",
    "    submission = pd.DataFrame()\n",
    "    submission['PassengerId'] = passengers\n",
    "    submission['Survived'] = y_sub\n",
    "    submission.to_csv(output, index=False)"
   ]
  },
  {
   "cell_type": "code",
   "execution_count": 154,
   "metadata": {},
   "outputs": [],
   "source": [
    "transform_csv('train.csv', 'train_processed.csv')\n",
    "train_df = pd.read_csv('train_processed.csv')\n",
    "y = train_df['Survived']\n",
    "passengers = train_df['PassengerId']\n",
    "X = train_df.drop(['Survived', 'PassengerId'], axis=1)"
   ]
  },
  {
   "cell_type": "code",
   "execution_count": 155,
   "metadata": {},
   "outputs": [],
   "source": [
    "transform_csv('test.csv', 'test_processed.csv')\n",
    "test_df = pd.read_csv('test_processed.csv')\n",
    "passengers_sub = test_df['PassengerId']\n",
    "X_sub = test_df.drop(['PassengerId'], axis=1)"
   ]
  },
  {
   "cell_type": "code",
   "execution_count": 156,
   "metadata": {},
   "outputs": [],
   "source": [
    "X_train, X_test, y_train, y_test = train_test_split(X, y, test_size=0.20, random_state=42)"
   ]
  },
  {
   "cell_type": "markdown",
   "metadata": {},
   "source": [
    "1. Vanilla SVM classifier with sklearn"
   ]
  },
  {
   "cell_type": "code",
   "execution_count": 158,
   "metadata": {},
   "outputs": [
    {
     "name": "stdout",
     "output_type": "stream",
     "text": [
      "0.815642458101\n"
     ]
    }
   ],
   "source": [
    "clf_svm = svm.SVC(gamma=0.001, C=100)\n",
    "print(train_accuracy(X_train, y_train, X_test, y_test, clf_svm))"
   ]
  },
  {
   "cell_type": "code",
   "execution_count": 159,
   "metadata": {},
   "outputs": [],
   "source": [
    "clf_svm = svm.SVC(gamma=0.001, C=100)\n",
    "submission(X, y, passengers_sub, X_sub, clf_svm, output='svm_submission.csv')"
   ]
  },
  {
   "cell_type": "markdown",
   "metadata": {},
   "source": [
    "2. Linear Regression"
   ]
  },
  {
   "cell_type": "code",
   "execution_count": 161,
   "metadata": {},
   "outputs": [
    {
     "name": "stdout",
     "output_type": "stream",
     "text": [
      "-131989437.777\n"
     ]
    }
   ],
   "source": [
    "from sklearn import linear_model\n",
    "clf_lr = linear_model.LinearRegression()\n",
    "print(train_accuracy(X_train, y_train, X_test, y_test, clf_lr))"
   ]
  },
  {
   "cell_type": "code",
   "execution_count": null,
   "metadata": {},
   "outputs": [],
   "source": []
  }
 ],
 "metadata": {
  "kernelspec": {
   "display_name": "Python 3",
   "language": "python",
   "name": "python3"
  },
  "language_info": {
   "codemirror_mode": {
    "name": "ipython",
    "version": 3
   },
   "file_extension": ".py",
   "mimetype": "text/x-python",
   "name": "python",
   "nbconvert_exporter": "python",
   "pygments_lexer": "ipython3",
   "version": "3.6.3"
  }
 },
 "nbformat": 4,
 "nbformat_minor": 2
}
